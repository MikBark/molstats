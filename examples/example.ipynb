{
 "cells": [
  {
   "cell_type": "code",
   "execution_count": null,
   "id": "1f60c23b-0bc8-454d-926c-93bee950473c",
   "metadata": {},
   "outputs": [],
   "source": [
    "!pip install pandas -q smilestats==0.0.4"
   ]
  },
  {
   "cell_type": "code",
   "execution_count": null,
   "id": "68c54db6-fbde-47cc-a8ce-c480dd041f99",
   "metadata": {},
   "outputs": [],
   "source": [
    "import pandas as pd\n",
    "from pysmiles import read_smiles"
   ]
  },
  {
   "cell_type": "code",
   "execution_count": null,
   "id": "9257eaf2-90c6-4f80-8ce8-218b85664217",
   "metadata": {},
   "outputs": [],
   "source": [
    "dataset = pd.DataFrame({\n",
    "    'smiles': [\n",
    "        'Cc1cc(O)ccc1O', 'Cc1cc(-c2cccc(Cl)c2)ccc1O', 'Cc1ccc(O)c(C)c1', 'Oc1ccc(Cl)cc1Cl',\n",
    "        'Cc1cc(Cl)ccc1O', 'Oc1ccc(CCc2cccc(O)c2)cc1', 'OCCc1cccc(O)c1', 'Oc1cccc(CCCl)c1',\n",
    "        'CCCc1cccc(O)c1', 'Oc1cccc(CCc2cc(O)cc(O)c2)c1', 'Oc1cccc(CCc2ccccc2)c1', 'OCc1cccc(O)c1',\n",
    "        'Oc1cccc(Cc2ccccc2)c1', 'ClCc1cccc(Cl)c1', 'Cc1ccc(C)c(C)c1', 'Cc1ccc(O)cc1O',\n",
    "    ],\n",
    "})"
   ]
  },
  {
   "cell_type": "code",
   "execution_count": null,
   "id": "dbb9aa55-f152-44ce-b0d0-e5be2c77a308",
   "metadata": {},
   "outputs": [],
   "source": [
    "dataset['graphs'] = dataset.smiles.apply(read_smiles)\n",
    "dataset.head()"
   ]
  },
  {
   "cell_type": "code",
   "execution_count": null,
   "id": "34d3fc11-287d-41c3-a4c1-bc6d0061afb7",
   "metadata": {},
   "outputs": [],
   "source": [
    "from smilestats import aromatic_ring_count, hydroxy_group_count, methylene_group_count, methyl_group_count, cl_count"
   ]
  },
  {
   "cell_type": "code",
   "execution_count": null,
   "id": "5ecd57d7-c04d-440f-9920-f437a4326dba",
   "metadata": {},
   "outputs": [],
   "source": [
    "dataset['aromatic_ring_count'] = dataset.graphs.apply(aromatic_ring_count)\n",
    "dataset['hydroxy_group_count'] = dataset.graphs.apply(hydroxy_group_count)\n",
    "dataset['methylene_group_count'] = dataset.graphs.apply(methylene_group_count)\n",
    "dataset['methyl_group_count'] = dataset.graphs.apply(methyl_group_count)\n",
    "dataset['cl_count'] = dataset.graphs.apply(cl_count)\n",
    "dataset.head()"
   ]
  }
 ],
 "metadata": {
  "kernelspec": {
   "display_name": "Python 3 (ipykernel)",
   "language": "python",
   "name": "python3"
  },
  "language_info": {
   "codemirror_mode": {
    "name": "ipython",
    "version": 3
   },
   "file_extension": ".py",
   "mimetype": "text/x-python",
   "name": "python",
   "nbconvert_exporter": "python",
   "pygments_lexer": "ipython3",
   "version": "3.10.15"
  }
 },
 "nbformat": 4,
 "nbformat_minor": 5
}
